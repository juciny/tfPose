{
 "cells": [
  {
   "cell_type": "code",
   "execution_count": 13,
   "metadata": {},
   "outputs": [
    {
     "name": "stdout",
     "output_type": "stream",
     "text": [
      "(273, 154, 4)\n"
     ]
    },
    {
     "ename": "AttributeError",
     "evalue": "'numpy.ndarray' object has no attribute 'coptTo'",
     "output_type": "error",
     "traceback": [
      "\u001b[1;31m---------------------------------------------------------------------------\u001b[0m",
      "\u001b[1;31mAttributeError\u001b[0m                            Traceback (most recent call last)",
      "\u001b[1;32m<ipython-input-13-858714241425>\u001b[0m in \u001b[0;36m<module>\u001b[1;34m()\u001b[0m\n\u001b[0;32m     15\u001b[0m \u001b[0mmask\u001b[0m\u001b[1;33m=\u001b[0m\u001b[0mcv2\u001b[0m\u001b[1;33m.\u001b[0m\u001b[0mimread\u001b[0m\u001b[1;33m(\u001b[0m\u001b[1;34m'F:/jupyterNotebook/tf-pose-estimation-master/photo/4.png'\u001b[0m\u001b[1;33m,\u001b[0m\u001b[1;36m0\u001b[0m\u001b[1;33m)\u001b[0m\u001b[1;33m\u001b[0m\u001b[0m\n\u001b[0;32m     16\u001b[0m \u001b[1;33m\u001b[0m\u001b[0m\n\u001b[1;32m---> 17\u001b[1;33m \u001b[0mlogo\u001b[0m\u001b[1;33m.\u001b[0m\u001b[0mcoptTo\u001b[0m\u001b[1;33m(\u001b[0m\u001b[0mpic_roi\u001b[0m\u001b[1;33m,\u001b[0m\u001b[0mmask\u001b[0m\u001b[1;33m)\u001b[0m\u001b[1;33m\u001b[0m\u001b[0m\n\u001b[0m\u001b[0;32m     18\u001b[0m \u001b[0mcv2\u001b[0m\u001b[1;33m.\u001b[0m\u001b[0mimshow\u001b[0m\u001b[1;33m(\u001b[0m\u001b[1;34m''\u001b[0m\u001b[1;33m,\u001b[0m \u001b[0mpic\u001b[0m\u001b[1;33m)\u001b[0m\u001b[1;33m\u001b[0m\u001b[0m\n\u001b[0;32m     19\u001b[0m \u001b[0mcv2\u001b[0m\u001b[1;33m.\u001b[0m\u001b[0mimwrite\u001b[0m\u001b[1;33m(\u001b[0m\u001b[1;34m'F:/jupyterNotebook/tf-pose-estimation-master/photo/save01.png'\u001b[0m\u001b[1;33m,\u001b[0m\u001b[0mpic\u001b[0m\u001b[1;33m)\u001b[0m\u001b[1;33m\u001b[0m\u001b[0m\n",
      "\u001b[1;31mAttributeError\u001b[0m: 'numpy.ndarray' object has no attribute 'coptTo'"
     ]
    }
   ],
   "source": [
    "import cv2\n",
    "\n",
    "pic = cv2.imread('F:/jupyterNotebook/tf-pose-estimation-master/photo/2.png',cv2.IMREAD_UNCHANGED)\n",
    "\n",
    "logo=cv2.imread('F:/jupyterNotebook/tf-pose-estimation-master/photo/4.png',cv2.IMREAD_UNCHANGED)\n",
    "\n",
    "\n",
    "size=pic.shape\n",
    "print(size)\n",
    "#pic=cv2.resize(pic,(100,100),cv2.INTER_CUBIC)\n",
    "\n",
    "rows,cols,channels=logo.shape\n",
    "pi_roi=pic[0:rows,0:cols]\n",
    "\n",
    "mask=cv2.imread('F:/jupyterNotebook/tf-pose-estimation-master/photo/4.png',0)\n",
    "\n",
    "logo.coptTo(pic_roi,mask)\n",
    "cv2.imshow('', pic)\n",
    "cv2.imwrite('F:/jupyterNotebook/tf-pose-estimation-master/photo/save01.png',pic)\n",
    "cv2.waitKey(0)\n",
    "cv2.destroyAllWindows()\n"
   ]
  },
  {
   "cell_type": "code",
   "execution_count": null,
   "metadata": {},
   "outputs": [],
   "source": []
  }
 ],
 "metadata": {
  "kernelspec": {
   "display_name": "Python 3",
   "language": "python",
   "name": "python3"
  },
  "language_info": {
   "codemirror_mode": {
    "name": "ipython",
    "version": 3
   },
   "file_extension": ".py",
   "mimetype": "text/x-python",
   "name": "python",
   "nbconvert_exporter": "python",
   "pygments_lexer": "ipython3",
   "version": "3.6.5"
  }
 },
 "nbformat": 4,
 "nbformat_minor": 2
}
