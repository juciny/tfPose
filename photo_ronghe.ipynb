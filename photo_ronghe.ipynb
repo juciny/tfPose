{
 "cells": [
  {
   "cell_type": "code",
   "execution_count": 9,
   "metadata": {},
   "outputs": [
    {
     "name": "stdout",
     "output_type": "stream",
     "text": [
      "800 366\n",
      "690 1255\n",
      "648 296\n"
     ]
    }
   ],
   "source": [
    "from PIL import Image\n",
    "\n",
    "human_center=[280,271]\n",
    "human_shoudler=60\n",
    "image_btm=Image.open('F:/jupyterNotebook/tf-pose-estimation-master/photo01.jpg')\n",
    "image_top= Image.open('F:/jupyterNotebook/tf-pose-estimation-master/photo/chibang01.png')\n",
    "top_center_width=400\n",
    "top_center_height=286\n",
    "top_shoudler=74\n",
    "top_width,top_height=image_top.size\n",
    "print(top_width,top_height)        \n",
    "btm_width,btm_height=image_btm.size\n",
    "print(btm_width,btm_height)       \n",
    "resize_width=int(top_width*human_shoudler/top_shoudler)\n",
    "resize_height=int(top_height*human_shoudler/top_shoudler)\n",
    "print(resize_width,resize_height)        \n",
    "resize_image=image_top.resize((resize_width,resize_height))\n",
    "        \n",
    "top_center_width=top_center_width*human_shoudler/top_shoudler\n",
    "top_center_height=top_center_height*human_shoudler/top_shoudler\n",
    "crop_image=resize_image\n",
    "if btm_width<top_width:\n",
    "    d=(top_width-btm_width)/2\n",
    "    crop_image=resize_image.crop((d,0,resize_width-d,resize_height))\n",
    "    top_center_width=top_center_width-d\n",
    "    \n",
    "r,g,b,a=crop_image.split()\n",
    "image_btm.paste(crop_image,(int(human_center[0]-top_center_width),int(human_center[1]-top_center_height)),a)\n",
    "image_btm.show()"
   ]
  },
  {
   "cell_type": "code",
   "execution_count": null,
   "metadata": {},
   "outputs": [],
   "source": []
  },
  {
   "cell_type": "code",
   "execution_count": null,
   "metadata": {},
   "outputs": [],
   "source": []
  },
  {
   "cell_type": "code",
   "execution_count": null,
   "metadata": {},
   "outputs": [],
   "source": []
  }
 ],
 "metadata": {
  "kernelspec": {
   "display_name": "Python 3",
   "language": "python",
   "name": "python3"
  },
  "language_info": {
   "codemirror_mode": {
    "name": "ipython",
    "version": 3
   },
   "file_extension": ".py",
   "mimetype": "text/x-python",
   "name": "python",
   "nbconvert_exporter": "python",
   "pygments_lexer": "ipython3",
   "version": "3.6.5"
  }
 },
 "nbformat": 4,
 "nbformat_minor": 2
}
